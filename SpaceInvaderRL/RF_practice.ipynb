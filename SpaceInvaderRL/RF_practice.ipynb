{
 "cells": [
  {
   "cell_type": "code",
   "execution_count": 1,
   "id": "cf5bd05e",
   "metadata": {},
   "outputs": [],
   "source": [
    "import gym"
   ]
  },
  {
   "cell_type": "code",
   "execution_count": 2,
   "id": "cf7df9ee",
   "metadata": {},
   "outputs": [
    {
     "name": "stdout",
     "output_type": "stream",
     "text": [
      "['adventure', 'air_raid', 'alien', 'amidar', 'assault', 'asterix', 'asteroids', 'atlantis', 'bank_heist', 'battle_zone', 'beam_rider', 'berzerk', 'bowling', 'boxing', 'breakout', 'carnival', 'centipede', 'chopper_command', 'crazy_climber', 'defender', 'demon_attack', 'double_dunk', 'elevator_action', 'enduro', 'fishing_derby', 'freeway', 'frostbite', 'gopher', 'gravitar', 'hero', 'ice_hockey', 'jamesbond', 'journey_escape', 'kaboom', 'kangaroo', 'krull', 'kung_fu_master', 'montezuma_revenge', 'ms_pacman', 'name_this_game', 'phoenix', 'pitfall', 'pong', 'pooyan', 'private_eye', 'qbert', 'riverraid', 'road_runner', 'robotank', 'seaquest', 'skiing', 'solaris', 'space_invaders', 'star_gunner', 'tennis', 'time_pilot', 'tutankham', 'up_n_down', 'venture', 'video_pinball', 'wizard_of_wor', 'yars_revenge', 'zaxxon']\n"
     ]
    }
   ],
   "source": [
    "\n",
    "import atari_py\n",
    "print(atari_py.list_games())"
   ]
  },
  {
   "cell_type": "code",
   "execution_count": 3,
   "id": "30de5094",
   "metadata": {},
   "outputs": [],
   "source": [
    "env = gym.make('SpaceInvaders-v0')"
   ]
  },
  {
   "cell_type": "code",
   "execution_count": 4,
   "id": "9f531ebc",
   "metadata": {},
   "outputs": [
    {
     "data": {
      "text/plain": [
       "Discrete(6)"
      ]
     },
     "execution_count": 4,
     "metadata": {},
     "output_type": "execute_result"
    }
   ],
   "source": [
    "env.action_space\n",
    "#輸出是6 代表有6種action"
   ]
  },
  {
   "cell_type": "code",
   "execution_count": 5,
   "id": "67ce23e3",
   "metadata": {},
   "outputs": [
    {
     "name": "stdout",
     "output_type": "stream",
     "text": [
      "Episode: 1\n",
      "Score :60.0\n",
      "Episode: 2\n",
      "Score :165.0\n",
      "Episode: 3\n",
      "Score :300.0\n",
      "Episode: 4\n",
      "Score :120.0\n",
      "Episode: 5\n",
      "Score :105.0\n",
      "Episode: 6\n",
      "Score :210.0\n",
      "Episode: 7\n",
      "Score :180.0\n",
      "Episode: 8\n",
      "Score :65.0\n",
      "Episode: 9\n",
      "Score :125.0\n"
     ]
    }
   ],
   "source": [
    "episodes=10\n",
    "for episode in range(1,episodes):\n",
    "    #每次都重設環境\n",
    "    state= env.reset()\n",
    "    #done 如果agent完成任務就結束\n",
    "    done = False\n",
    "    score =0\n",
    "    \n",
    "    while not done:\n",
    "        env.render()\n",
    "        #.sample代表作random\n",
    "        state,reward,done,info=env.step(env.action_space.sample())\n",
    "        \n",
    "        score +=reward\n",
    "    print('Episode: {}\\nScore :{}'.format(episode,score))\n",
    "env.close()"
   ]
  },
  {
   "cell_type": "code",
   "execution_count": 27,
   "id": "009b50b0",
   "metadata": {},
   "outputs": [],
   "source": [
    "import numpy as np\n",
    "from tensorflow.keras.models import Sequential\n",
    "from tensorflow.keras.layers import Dense, Flatten, Conv2D\n",
    "from tensorflow.keras.optimizers import Adam"
   ]
  },
  {
   "cell_type": "code",
   "execution_count": 28,
   "id": "a65fad3b",
   "metadata": {},
   "outputs": [],
   "source": [
    "height,width,channels=env.observation_space.shape\n",
    "actions = env.action_space.n"
   ]
  },
  {
   "cell_type": "code",
   "execution_count": 29,
   "id": "4467d1e1",
   "metadata": {},
   "outputs": [],
   "source": [
    "def build_model(height,width,channels, actions):\n",
    "    model = Sequential()\n",
    "    model.add(Conv2D(32,(8,8),strides=(4,4),activation='relu',input_shape=(3,height,width,channels)))\n",
    "    model.add(Conv2D(64,(4,4),strides=(2,2),activation='relu'))\n",
    "    model.add(Flatten())\n",
    "    model.add(Dense(512,activation='relu'))\n",
    "    model.add(Dense(256,activation='relu'))\n",
    "    model.add(Dense(actions,activation='relu'))\n",
    "    return model"
   ]
  },
  {
   "cell_type": "code",
   "execution_count": 30,
   "id": "4a8f985a",
   "metadata": {},
   "outputs": [],
   "source": [
    "#del model"
   ]
  },
  {
   "cell_type": "code",
   "execution_count": 31,
   "id": "e184e81b",
   "metadata": {},
   "outputs": [],
   "source": [
    "model=build_model(height,width,channels,actions)"
   ]
  },
  {
   "cell_type": "code",
   "execution_count": 32,
   "id": "36a43dd0",
   "metadata": {},
   "outputs": [],
   "source": [
    "from rl.agents import DQNAgent\n",
    "from rl.memory import SequentialMemory\n",
    "from rl.policy import LinearAnnealedPolicy, EpsGreedyQPolicy\n"
   ]
  },
  {
   "cell_type": "code",
   "execution_count": 37,
   "id": "ee8802dd",
   "metadata": {},
   "outputs": [],
   "source": [
    "def build_agent(model,actions):\n",
    "    policy = LinearAnnealedPolicy(EpsGreedyQPolicy(),attr='eps',value_max=1.,value_min=.1,value_test=.2,nb_steps=10000)\n",
    "    memory=SequentialMemory(limit=2000,window_length=3)\n",
    "    dqn=DQNAgent(model=model,memory=memory,policy=policy,\n",
    "                 enable_dueling_network=True,dueling_type='avg',\n",
    "                nb_steps_warmup=1000,nb_actions=actions)\n",
    "    return dqn"
   ]
  },
  {
   "cell_type": "code",
   "execution_count": 38,
   "id": "fab8503d",
   "metadata": {},
   "outputs": [],
   "source": [
    "dqn=build_agent(model,actions)"
   ]
  },
  {
   "cell_type": "code",
   "execution_count": null,
   "id": "3bb4ad98",
   "metadata": {},
   "outputs": [],
   "source": []
  },
  {
   "cell_type": "code",
   "execution_count": 39,
   "id": "79fd3dbd",
   "metadata": {},
   "outputs": [],
   "source": [
    "dqn.compile(Adam(lr=0.001))"
   ]
  },
  {
   "cell_type": "code",
   "execution_count": null,
   "id": "4f0135a6",
   "metadata": {},
   "outputs": [
    {
     "name": "stdout",
     "output_type": "stream",
     "text": [
      "Training for 40000 steps ...\n",
      "Interval 1 (0 steps performed)\n",
      "WARNING:tensorflow:From C:\\Users\\AUO\\anaconda3\\lib\\site-packages\\tensorflow\\python\\keras\\engine\\training_v1.py:2070: Model.state_updates (from tensorflow.python.keras.engine.training) is deprecated and will be removed in a future version.\n",
      "Instructions for updating:\n",
      "This property should not be used in TensorFlow 2.0, as updates are applied automatically.\n",
      " 4330/10000 [===========>..................] - ETA: 58:31 - reward: 0.2494"
     ]
    }
   ],
   "source": [
    "dqn.fit(env,nb_steps=40000,visualize=True,verbose=1)"
   ]
  }
 ],
 "metadata": {
  "kernelspec": {
   "display_name": "Python 3 (ipykernel)",
   "language": "python",
   "name": "python3"
  },
  "language_info": {
   "codemirror_mode": {
    "name": "ipython",
    "version": 3
   },
   "file_extension": ".py",
   "mimetype": "text/x-python",
   "name": "python",
   "nbconvert_exporter": "python",
   "pygments_lexer": "ipython3",
   "version": "3.7.13"
  }
 },
 "nbformat": 4,
 "nbformat_minor": 5
}
